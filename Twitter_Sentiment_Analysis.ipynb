{
 "cells": [
  {
   "cell_type": "code",
   "execution_count": 2,
   "metadata": {},
   "outputs": [],
   "source": [
    "#import the libraries\n",
    "import tweepy\n",
    "import codecs\n",
    "from aylienapiclient import textapi\n",
    "import csv, io\n",
    "import matplotlib.pyplot as plt \n",
    "import pandas as pd\n",
    "from collections import Counter\n",
    "import csv "
   ]
  },
  {
   "cell_type": "code",
   "execution_count": 3,
   "metadata": {},
   "outputs": [],
   "source": [
    "#fill in your Twitter credentials \n",
    "access_token = ''\n",
    "access_token_secret = ''\n",
    "consumer_key = ''\n",
    "consumer_secret = ''\n",
    "\n",
    "#Set up an instance of the REST API\n",
    "auth = tweepy.OAuthHandler(consumer_key, consumer_secret)\n",
    "auth.set_access_token(access_token, access_token_secret)\n",
    "api = tweepy.API(auth)"
   ]
  },
  {
   "cell_type": "code",
   "execution_count": 4,
   "metadata": {},
   "outputs": [],
   "source": [
    "#search query and store your results in a variable\n",
    "search_results = api.search(q = \"#brexit\", lang = \"en\", result_type = \"recent\", count = 100)\n",
    "\n",
    "file = codecs.open(\"brexit.txt\", \"w\", \"utf-8\")\n",
    "for result in search_results:\n",
    "    file.write(result.text)\n",
    "    file.write(\"\\n\")\n",
    "file.close()"
   ]
  },
  {
   "cell_type": "code",
   "execution_count": 5,
   "metadata": {},
   "outputs": [
    {
     "ename": "HttpError",
     "evalue": "<HttpError 429 when requesting https://api.aylien.com/api/v1/sentiment returned \"Too Many Requests\">",
     "output_type": "error",
     "traceback": [
      "\u001b[1;31m---------------------------------------------------------------------------\u001b[0m",
      "\u001b[1;31mHttpError\u001b[0m                                 Traceback (most recent call last)",
      "\u001b[1;32m<ipython-input-5-c6d8fed8d36d>\u001b[0m in \u001b[0;36m<module>\u001b[1;34m()\u001b[0m\n\u001b[0;32m     17\u001b[0m                 \u001b[1;32mcontinue\u001b[0m\u001b[1;33m\u001b[0m\u001b[0m\n\u001b[0;32m     18\u001b[0m             \u001b[1;31m## Make call to AYLIEN Text API\u001b[0m\u001b[1;33m\u001b[0m\u001b[1;33m\u001b[0m\u001b[0m\n\u001b[1;32m---> 19\u001b[1;33m             \u001b[0msentiment\u001b[0m \u001b[1;33m=\u001b[0m \u001b[0mclient\u001b[0m\u001b[1;33m.\u001b[0m\u001b[0mSentiment\u001b[0m\u001b[1;33m(\u001b[0m\u001b[1;33m{\u001b[0m\u001b[1;34m'text'\u001b[0m\u001b[1;33m:\u001b[0m \u001b[0mtweet\u001b[0m\u001b[1;33m}\u001b[0m\u001b[1;33m)\u001b[0m\u001b[1;33m\u001b[0m\u001b[0m\n\u001b[0m\u001b[0;32m     20\u001b[0m \u001b[1;33m\u001b[0m\u001b[0m\n\u001b[0;32m     21\u001b[0m             \u001b[1;31m## Write the sentiment result into csv file\u001b[0m\u001b[1;33m\u001b[0m\u001b[1;33m\u001b[0m\u001b[0m\n",
      "\u001b[1;32m~\\Anaconda3\\lib\\site-packages\\aylienapiclient\\textapi.py\u001b[0m in \u001b[0;36mSentiment\u001b[1;34m(self, options)\u001b[0m\n\u001b[0;32m    412\u001b[0m       \u001b[1;32mraise\u001b[0m \u001b[0mMissingParameterError\u001b[0m\u001b[1;33m(\u001b[0m\u001b[1;34m'You must either provide url or text'\u001b[0m\u001b[1;33m)\u001b[0m\u001b[1;33m\u001b[0m\u001b[0m\n\u001b[0;32m    413\u001b[0m \u001b[1;33m\u001b[0m\u001b[0m\n\u001b[1;32m--> 414\u001b[1;33m     \u001b[0mresponse\u001b[0m \u001b[1;33m=\u001b[0m \u001b[0mself\u001b[0m\u001b[1;33m.\u001b[0m\u001b[0m_executeRequest\u001b[0m\u001b[1;33m(\u001b[0m\u001b[1;34m'sentiment'\u001b[0m\u001b[1;33m,\u001b[0m \u001b[0moptions\u001b[0m\u001b[1;33m)\u001b[0m\u001b[1;33m\u001b[0m\u001b[0m\n\u001b[0m\u001b[0;32m    415\u001b[0m \u001b[1;33m\u001b[0m\u001b[0m\n\u001b[0;32m    416\u001b[0m     \u001b[1;32mreturn\u001b[0m \u001b[0mresponse\u001b[0m\u001b[1;33m\u001b[0m\u001b[0m\n",
      "\u001b[1;32m~\\Anaconda3\\lib\\site-packages\\aylienapiclient\\textapi.py\u001b[0m in \u001b[0;36m_executeRequest\u001b[1;34m(self, endpoint, params)\u001b[0m\n\u001b[0;32m    680\u001b[0m \u001b[1;33m\u001b[0m\u001b[0m\n\u001b[0;32m    681\u001b[0m     \u001b[1;32mif\u001b[0m \u001b[0mresponse\u001b[0m\u001b[1;33m.\u001b[0m\u001b[0mstatus\u001b[0m \u001b[1;33m>=\u001b[0m \u001b[1;36m300\u001b[0m\u001b[1;33m:\u001b[0m\u001b[1;33m\u001b[0m\u001b[0m\n\u001b[1;32m--> 682\u001b[1;33m       \u001b[1;32mraise\u001b[0m \u001b[0mHttpError\u001b[0m\u001b[1;33m(\u001b[0m\u001b[0mresponse\u001b[0m\u001b[1;33m,\u001b[0m \u001b[0mcontent\u001b[0m\u001b[1;33m,\u001b[0m \u001b[0muri\u001b[0m\u001b[1;33m=\u001b[0m\u001b[0mrequest\u001b[0m\u001b[1;33m.\u001b[0m\u001b[0muri\u001b[0m\u001b[1;33m)\u001b[0m\u001b[1;33m\u001b[0m\u001b[0m\n\u001b[0m\u001b[0;32m    683\u001b[0m \u001b[1;33m\u001b[0m\u001b[0m\n\u001b[0;32m    684\u001b[0m     \u001b[1;32mif\u001b[0m \u001b[0msys\u001b[0m\u001b[1;33m.\u001b[0m\u001b[0mversion_info\u001b[0m \u001b[1;33m>=\u001b[0m \u001b[1;33m(\u001b[0m\u001b[1;36m3\u001b[0m\u001b[1;33m,\u001b[0m \u001b[1;36m0\u001b[0m\u001b[1;33m)\u001b[0m\u001b[1;33m:\u001b[0m\u001b[1;33m\u001b[0m\u001b[0m\n",
      "\u001b[1;31mHttpError\u001b[0m: <HttpError 429 when requesting https://api.aylien.com/api/v1/sentiment returned \"Too Many Requests\">"
     ]
    }
   ],
   "source": [
    "# Initialize a new client of AYLIEN Text API\n",
    "client = textapi.Client(\"\", \"\")\n",
    "\n",
    "with io.open('brexit_tweet_SA.csv', 'w', encoding='utf8', newline='') as csvfile:\n",
    "    csv_writer = csv.writer(csvfile)\n",
    "    csv_writer.writerow([\"Tweet\", \"Sentiment\"])\n",
    "    with io.open(\"brexit.txt\", 'r', encoding='utf8') as f:\n",
    "        for brex_tweet in f.readlines():\n",
    "            ## Remove extra spaces or newlines around the text\n",
    "            tweet = brex_tweet.strip()\n",
    "            ## Reject tweets which are empty so you don’t waste your API credits\n",
    "            if len(tweet) == 0:\n",
    "                #print('skipped')\n",
    "                continue\n",
    "            ## Make call to AYLIEN Text API\n",
    "            sentiment = client.Sentiment({'text': tweet})\n",
    "\n",
    "            ## Write the sentiment result into csv file\n",
    "            csv_writer.writerow([sentiment['text'], sentiment['polarity']])"
   ]
  },
  {
   "cell_type": "code",
   "execution_count": 10,
   "metadata": {},
   "outputs": [
    {
     "data": {
      "image/png": "[encoded data removed]",
      "text/plain": [
       "<matplotlib.figure.Figure at 0x234aae0d5f8>"
      ]
     },
     "metadata": {},
     "output_type": "display_data"
    }
   ],
   "source": [
    "#open up your csv file with the sentiment results\n",
    "with open('brexit_tweet_SA.csv', 'r', encoding = 'utf8') as brexcsvfile:\n",
    "        # Pandas to read the “Sentiment” column,\n",
    "        df_brex = pd.read_csv(brexcsvfile)\n",
    "        sent_tweet = df_brex[\"Sentiment\"]\n",
    "\n",
    "#use Counter to count how many times each sentiment appears and save each as a variable\n",
    "        counter_var = Counter(sent_tweet)\n",
    "        positive = counter['positive']\n",
    "        negative = counter['negative']\n",
    "        neutral = counter['neutral']\n",
    "\n",
    "## declare the variables for the pie chart, using the Counter variables for “sizes”\n",
    "labels = 'Positive', 'Negative', 'Neutral'\n",
    "sizes = [positive, negative, neutral]\n",
    "colors = ['blue', 'yellow', 'black']\n",
    "text = \"brexit\"\n",
    "\n",
    "## use matplotlib to plot the chart\n",
    "plt.pie(sizes, labels = labels, colors = colors, shadow = True, startangle = 90)\n",
    "plt.title(\"Sentiment of 100 Tweets about \"+ text)\n",
    "plt.show()"
   ]
  },
  {
   "cell_type": "code",
   "execution_count": null,
   "metadata": {},
   "outputs": [],
   "source": []
  }
 ],
 "metadata": {
  "kernelspec": {
   "display_name": "Python 3",
   "language": "python",
   "name": "python3"
  },
  "language_info": {
   "codemirror_mode": {
    "name": "ipython",
    "version": 3
   },
   "file_extension": ".py",
   "mimetype": "text/x-python",
   "name": "python",
   "nbconvert_exporter": "python",
   "pygments_lexer": "ipython3",
   "version": "3.6.4"
  }
 },
 "nbformat": 4,
 "nbformat_minor": 2
}
